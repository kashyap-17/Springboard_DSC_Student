{
 "cells": [
  {
   "cell_type": "markdown",
   "metadata": {},
   "source": [
    "This exercise will require you to pull some data from the Qunadl API. Qaundl is currently the most widely used aggregator of financial market data."
   ]
  },
  {
   "cell_type": "markdown",
   "metadata": {},
   "source": [
    "As a first step, you will need to register a free account on the http://www.quandl.com website."
   ]
  },
  {
   "cell_type": "markdown",
   "metadata": {},
   "source": [
    "After you register, you will be provided with a unique API key, that you should store:"
   ]
  },
  {
   "cell_type": "code",
   "execution_count": 46,
   "metadata": {},
   "outputs": [],
   "source": [
    "# Store the API key as a string - according to PEP8, constants are always named in all upper case\n",
    "API_KEY = '' #removing api as instructed"
   ]
  },
  {
   "cell_type": "markdown",
   "metadata": {},
   "source": [
    "Qaundl has a large number of data sources, but, unfortunately, most of them require a Premium subscription. Still, there are also a good number of free datasets."
   ]
  },
  {
   "cell_type": "markdown",
   "metadata": {},
   "source": [
    "For this mini project, we will focus on equities data from the Frankfurt Stock Exhange (FSE), which is available for free. We'll try and analyze the stock prices of a company called Carl Zeiss Meditec, which manufactures tools for eye examinations, as well as medical lasers for laser eye surgery: https://www.zeiss.com/meditec/int/home.html. The company is listed under the stock ticker AFX_X."
   ]
  },
  {
   "cell_type": "markdown",
   "metadata": {},
   "source": [
    "You can find the detailed Quandl API instructions here: https://docs.quandl.com/docs/time-series"
   ]
  },
  {
   "cell_type": "markdown",
   "metadata": {},
   "source": [
    "While there is a dedicated Python package for connecting to the Quandl API, we would prefer that you use the *requests* package, which can be easily downloaded using *pip* or *conda*. You can find the documentation for the package here: http://docs.python-requests.org/en/master/ "
   ]
  },
  {
   "cell_type": "markdown",
   "metadata": {},
   "source": [
    "Finally, apart from the *requests* package, you are encouraged to not use any third party Python packages, such as *pandas*, and instead focus on what's available in the Python Standard Library (the *collections* module might come in handy: https://pymotw.com/3/collections/ ).\n",
    "Also, since you won't have access to DataFrames, you are encouraged to us Python's native data structures - preferably dictionaries, though some questions can also be answered using lists.\n",
    "You can read more on these data structures here: https://docs.python.org/3/tutorial/datastructures.html"
   ]
  },
  {
   "cell_type": "markdown",
   "metadata": {},
   "source": [
    "Keep in mind that the JSON responses you will be getting from the API map almost one-to-one to Python's dictionaries. Unfortunately, they can be very nested, so make sure you read up on indexing dictionaries in the documentation provided above."
   ]
  },
  {
   "cell_type": "code",
   "execution_count": 42,
   "metadata": {},
   "outputs": [],
   "source": [
    "# First, import the relevant modules\n",
    "import requests\n",
    "import json\n"
   ]
  },
  {
   "cell_type": "code",
   "execution_count": 49,
   "metadata": {},
   "outputs": [
    {
     "name": "stdout",
     "output_type": "stream",
     "text": [
      "{'dataset': {'id': 10095370, 'dataset_code': 'AFX_X', 'database_code': 'FSE', 'name': 'Carl Zeiss Meditec (AFX_X)', 'description': 'Stock Prices for Carl Zeiss Meditec (2020-11-02) from the Frankfurt Stock Exchange.<br><br>Trading System: Xetra<br><br>ISIN: DE0005313704', 'refreshed_at': '2020-12-01T14:48:09.907Z', 'newest_available_date': '2020-12-01', 'oldest_available_date': '2000-06-07', 'column_names': ['Date', 'Open', 'High', 'Low', 'Close', 'Change', 'Traded Volume', 'Turnover', 'Last Price of the Day', 'Daily Traded Units', 'Daily Turnover'], 'frequency': 'daily', 'type': 'Time Series', 'premium': False, 'limit': None, 'transform': None, 'column_index': None, 'start_date': '2018-11-28', 'end_date': '2018-11-29', 'data': [['2018-11-29', None, 62.65, 61.2, 62.05, None, 116211.0, 7202614.0, None, None, None], ['2018-11-28', None, 62.1, 60.9, 61.55, None, 81612.0, 5025096.0, None, None, None]], 'collapse': None, 'order': None, 'database_id': 6129}}\n"
     ]
    }
   ],
   "source": [
    "# Now, call the Quandl API and pull out a small sample of the data (only one day) to get a glimpse\n",
    "# into the JSON structure that will be returned\n",
    "r= requests.get('https://www.quandl.com/api/v3/datasets/FSE/AFX_X?start_date=2018-11-28&end_date=2018-11-29&api_key=<API_KEY>')\n",
    "r_dict = r.json()\n",
    "print(r_dict)"
   ]
  },
  {
   "cell_type": "code",
   "execution_count": 26,
   "metadata": {},
   "outputs": [
    {
     "name": "stdout",
     "output_type": "stream",
     "text": [
      "dict_keys(['dataset'])\n",
      "dict_keys(['id', 'dataset_code', 'database_code', 'name', 'description', 'refreshed_at', 'newest_available_date', 'oldest_available_date', 'column_names', 'frequency', 'type', 'premium', 'limit', 'transform', 'column_index', 'start_date', 'end_date', 'data', 'collapse', 'order', 'database_id'])\n",
      "10095370\n"
     ]
    }
   ],
   "source": [
    "# Inspect the JSON structure of the object you created, and take note of how nested it is,\n",
    "# as well as the overall structure\n",
    "print(r_dict.keys())\n",
    "print(r_dict['dataset'].keys())\n",
    "print(r_dict['dataset']['id'])"
   ]
  },
  {
   "cell_type": "markdown",
   "metadata": {},
   "source": [
    "These are your tasks for this mini project:\n",
    "\n",
    "1. Collect data from the Franfurt Stock Exchange, for the ticker AFX_X, for the whole year 2017 (keep in mind that the date format is YYYY-MM-DD).\n",
    "2. Convert the returned JSON object into a Python dictionary.\n",
    "3. Calculate what the highest and lowest opening prices were for the stock in this period.\n",
    "4. What was the largest change in any one day (based on High and Low price)?\n",
    "5. What was the largest change between any two days (based on Closing Price)?\n",
    "6. What was the average daily trading volume during this year?\n",
    "7. (Optional) What was the median trading volume during this year. (Note: you may need to implement your own function for calculating the median.)"
   ]
  },
  {
   "cell_type": "code",
   "execution_count": 28,
   "metadata": {},
   "outputs": [
    {
     "name": "stdout",
     "output_type": "stream",
     "text": [
      "dict_keys(['dataset'])\n"
     ]
    }
   ],
   "source": [
    "r= requests.get('https://www.quandl.com/api/v3/datasets/FSE/AFX_X?start_date=2017-01-01&end_date=2017-12-31&api_key=<API_KEY>')\n",
    "r_dict = r.json()\n",
    "print(r_dict.keys())"
   ]
  },
  {
   "cell_type": "code",
   "execution_count": 31,
   "metadata": {},
   "outputs": [
    {
     "name": "stdout",
     "output_type": "stream",
     "text": [
      "dict_keys(['id', 'dataset_code', 'database_code', 'name', 'description', 'refreshed_at', 'newest_available_date', 'oldest_available_date', 'column_names', 'frequency', 'type', 'premium', 'limit', 'transform', 'column_index', 'start_date', 'end_date', 'data', 'collapse', 'order', 'database_id'])\n"
     ]
    }
   ],
   "source": [
    "r_dict1 = r_dict['dataset']\n",
    "print(r_dict1.keys())"
   ]
  },
  {
   "cell_type": "code",
   "execution_count": 32,
   "metadata": {},
   "outputs": [
    {
     "data": {
      "text/plain": [
       "['Date',\n",
       " 'Open',\n",
       " 'High',\n",
       " 'Low',\n",
       " 'Close',\n",
       " 'Change',\n",
       " 'Traded Volume',\n",
       " 'Turnover',\n",
       " 'Last Price of the Day',\n",
       " 'Daily Traded Units',\n",
       " 'Daily Turnover']"
      ]
     },
     "execution_count": 32,
     "metadata": {},
     "output_type": "execute_result"
    }
   ],
   "source": [
    "r_dict1['column_names']"
   ]
  },
  {
   "cell_type": "code",
   "execution_count": 50,
   "metadata": {},
   "outputs": [
    {
     "name": "stdout",
     "output_type": "stream",
     "text": [
      "['2017-12-29', '2017-12-28', '2017-12-27', '2017-12-22', '2017-12-21', '2017-12-20', '2017-12-19', '2017-12-18', '2017-12-15', '2017-12-14', '2017-12-13', '2017-12-12', '2017-12-11', '2017-12-08', '2017-12-07', '2017-12-06', '2017-12-05', '2017-12-04', '2017-12-01', '2017-11-30', '2017-11-29', '2017-11-28', '2017-11-27', '2017-11-24', '2017-11-23', '2017-11-22', '2017-11-21', '2017-11-20', '2017-11-17', '2017-11-16', '2017-11-15', '2017-11-14', '2017-11-13', '2017-11-10', '2017-11-09', '2017-11-08', '2017-11-07', '2017-11-06', '2017-11-03', '2017-11-02', '2017-11-01', '2017-10-30', '2017-10-27', '2017-10-26', '2017-10-25', '2017-10-24', '2017-10-23', '2017-10-20', '2017-10-19', '2017-10-18', '2017-10-17', '2017-10-16', '2017-10-13', '2017-10-12', '2017-10-11', '2017-10-10', '2017-10-09', '2017-10-06', '2017-10-05', '2017-10-04', '2017-10-02', '2017-09-29', '2017-09-28', '2017-09-27', '2017-09-26', '2017-09-25', '2017-09-22', '2017-09-21', '2017-09-20', '2017-09-19', '2017-09-18', '2017-09-15', '2017-09-14', '2017-09-13', '2017-09-12', '2017-09-11', '2017-09-08', '2017-09-07', '2017-09-06', '2017-09-05', '2017-09-04', '2017-09-01', '2017-08-31', '2017-08-30', '2017-08-29', '2017-08-28', '2017-08-25', '2017-08-24', '2017-08-23', '2017-08-22', '2017-08-21', '2017-08-18', '2017-08-17', '2017-08-16', '2017-08-15', '2017-08-14', '2017-08-11', '2017-08-10', '2017-08-09', '2017-08-08', '2017-08-07', '2017-08-04', '2017-08-03', '2017-08-02', '2017-08-01', '2017-07-31', '2017-07-28', '2017-07-27', '2017-07-26', '2017-07-25', '2017-07-24', '2017-07-21', '2017-07-20', '2017-07-19', '2017-07-18', '2017-07-17', '2017-07-14', '2017-07-13', '2017-07-12', '2017-07-11', '2017-07-10', '2017-07-07', '2017-07-06', '2017-07-05', '2017-07-04', '2017-07-03', '2017-06-30', '2017-06-29', '2017-06-28', '2017-06-27', '2017-06-26', '2017-06-23', '2017-06-22', '2017-06-21', '2017-06-20', '2017-06-19', '2017-06-16', '2017-06-15', '2017-06-14', '2017-06-13', '2017-06-12', '2017-06-09', '2017-06-08', '2017-06-07', '2017-06-06', '2017-06-02', '2017-06-01', '2017-05-31', '2017-05-30', '2017-05-29', '2017-05-26', '2017-05-25', '2017-05-24', '2017-05-23', '2017-05-22', '2017-05-19', '2017-05-18', '2017-05-17', '2017-05-16', '2017-05-15', '2017-05-12', '2017-05-11', '2017-05-10', '2017-05-09', '2017-05-08', '2017-05-05', '2017-05-04', '2017-05-03', '2017-05-02', '2017-05-01', '2017-04-28', '2017-04-27', '2017-04-26', '2017-04-25', '2017-04-24', '2017-04-21', '2017-04-20', '2017-04-19', '2017-04-18', '2017-04-17', '2017-04-14', '2017-04-13', '2017-04-12', '2017-04-11', '2017-04-10', '2017-04-07', '2017-04-06', '2017-04-05', '2017-04-04', '2017-04-03', '2017-03-31', '2017-03-30', '2017-03-29', '2017-03-28', '2017-03-27', '2017-03-24', '2017-03-23', '2017-03-22', '2017-03-21', '2017-03-20', '2017-03-17', '2017-03-16', '2017-03-15', '2017-03-14', '2017-03-13', '2017-03-10', '2017-03-09', '2017-03-08', '2017-03-07', '2017-03-06', '2017-03-03', '2017-03-02', '2017-03-01', '2017-02-28', '2017-02-27', '2017-02-24', '2017-02-23', '2017-02-22', '2017-02-21', '2017-02-20', '2017-02-17', '2017-02-16', '2017-02-15', '2017-02-14', '2017-02-13', '2017-02-10', '2017-02-09', '2017-02-08', '2017-02-07', '2017-02-06', '2017-02-03', '2017-02-02', '2017-02-01', '2017-01-31', '2017-01-30', '2017-01-27', '2017-01-26', '2017-01-25', '2017-01-24', '2017-01-23', '2017-01-20', '2017-01-19', '2017-01-18', '2017-01-17', '2017-01-16', '2017-01-13', '2017-01-12', '2017-01-11', '2017-01-10', '2017-01-09', '2017-01-06', '2017-01-05', '2017-01-04', '2017-01-03', '2017-01-02']\n",
      "[51.76, 51.65, 51.45, 51.05, 51.16, 51.88, 52.73, 52.37, 52.7, 53.11, 52.64, 52.29, 52.28, 51.5, 50.89, 50.8, 51.21, 49.5, 49.52, 48.64, 49.64, 49.09, 49.13, 49.11, 48.8, 48.4, 47.25, 46.57, 47.03, 47.09, 47.98, 48.4, 48.38, 47.3, 47.65, 46.42, 46.16, 45.81, 45.0, 45.88, 46.29, 46.53, 45.48, 45.2, 45.01, 45.16, 44.9, 45.08, 45.72, 46.01, 45.8, 45.61, 45.5, 45.58, 45.97, 45.64, 46.2, 46.19, 46.01, 45.36, 44.51, 43.58, 42.0, 42.35, 42.3, 42.3, 41.48, 42.29, 42.54, 42.65, 42.5, 42.29, 42.35, 42.49, 43.21, 42.81, 42.7, 43.0, 42.66, 43.0, 42.38, 42.16, 42.0, 42.0, 41.71, 42.11, 42.64, 42.72, 42.82, 42.46, 42.42, 42.28, 41.88, 42.4, 42.53, 42.12, 41.3, 41.73, 43.5, 44.9, 45.85, 45.13, 45.34, 45.25, 45.24, 44.94, 45.26, 45.16, 44.91, 44.7, 45.31, 45.57, 45.74, 45.06, 45.5, 45.6, 45.07, 44.67, 44.29, 44.94, 44.64, 44.79, 45.5, 44.67, 45.83, 45.29, 45.01, 45.73, 46.68, 47.23, 46.95, 47.29, 47.03, 47.46, 46.48, 46.9, 45.66, 46.34, 46.52, 46.5, 47.31, 46.77, 47.8, 47.01, 47.12, 46.8, 46.12, 45.22, 45.05, 45.61, 44.8, 44.8, 43.92, 43.67, 44.16, 43.74, 44.0, 45.06, 45.15, 45.09, 45.18, 43.4, 43.5, 41.83, 43.0, 42.52, 41.86, 42.2, 41.89, None, 42.17, 41.51, 41.88, 41.93, 42.01, 41.97, 42.5, 41.94, 42.24, None, None, 42.06, 42.02, 41.62, 41.46, 40.9, 40.96, 41.1, 39.5, 40.15, 39.77, 40.02, 39.39, 38.95, 38.73, 38.94, 39.01, 38.25, 41.8, 41.26, 41.47, 41.4, 41.4, 41.2, 41.4, 41.53, 41.61, 41.13, 41.5, 41.25, 41.12, 41.38, 41.19, 40.38, 39.75, 39.77, 39.72, 39.6, 38.85, 39.25, 38.8, 38.8, 38.5, 38.81, 37.37, 36.65, 36.2, 35.98, 35.56, 36.06, 36.02, 35.95, 34.75, 35.24, 35.38, 34.83, 35.07, 34.42, 34.0, 34.04, 34.54, 35.04, 35.04, 35.06, 34.85, 34.98, 35.38, 34.95, 34.8, 35.29, 34.91, 35.02, 35.48, 35.9, 34.99]\n",
      "[51.94, 51.82, 51.89, 51.5, 51.52, 52.04, 52.73, 52.75, 52.7, 53.54, 53.35, 53.1, 52.45, 52.83, 51.47, 51.11, 51.38, 51.23, 50.49, 49.84, 49.64, 49.89, 49.73, 49.41, 49.46, 49.61, 48.59, 47.38, 47.15, 47.23, 48.01, 48.9, 48.61, 48.89, 48.06, 47.72, 46.33, 46.09, 46.04, 46.06, 46.55, 46.65, 46.42, 45.41, 45.06, 45.27, 45.34, 45.34, 45.85, 46.2, 46.06, 45.75, 45.7, 45.58, 45.97, 46.04, 46.2, 46.19, 46.09, 46.17, 44.98, 44.17, 43.56, 42.49, 42.57, 42.3, 42.38, 42.29, 42.54, 42.65, 42.63, 42.81, 42.8, 42.69, 43.34, 42.89, 42.75, 43.02, 42.71, 43.19, 42.75, 43.06, 42.08, 42.2, 41.98, 42.25, 42.64, 43.05, 43.17, 42.96, 42.76, 42.6, 43.01, 42.62, 42.53, 42.69, 41.94, 41.99, 43.5, 45.09, 46.34, 45.13, 45.54, 45.77, 45.54, 45.75, 45.29, 45.45, 45.33, 45.04, 45.31, 45.88, 45.96, 45.72, 45.55, 46.23, 45.56, 45.18, 45.05, 44.94, 45.18, 44.79, 45.5, 45.36, 45.83, 45.83, 45.74, 45.81, 46.68, 47.33, 47.63, 47.4, 47.4, 47.48, 47.43, 46.9, 46.8, 46.34, 46.86, 46.51, 47.43, 47.44, 47.8, 47.43, 47.45, 46.99, 46.52, 46.26, 46.02, 45.61, 45.36, 44.87, 44.67, 44.13, 44.22, 44.12, 44.3, 45.34, 45.36, 45.78, 45.18, 46.06, 43.6, 43.55, 43.0, 42.91, 42.5, 42.29, 42.23, 42.245, 42.25, 42.24, 41.94, 42.18, 42.02, 42.14, 42.64, 42.61, 42.4, 42.48, 42.48, 42.48, 42.45, 42.03, 41.68, 41.42, 41.25, 41.34, 40.88, 40.15, 40.07, 40.14, 40.01, 39.35, 39.1, 39.02, 39.25, 39.02, 41.83, 42.17, 41.59, 41.57, 41.5, 41.5, 41.46, 41.53, 41.61, 41.71, 41.8, 41.4, 41.22, 41.39, 41.57, 40.95, 40.64, 40.14, 39.98, 39.75, 39.57, 39.25, 39.03, 39.2, 38.93, 38.86, 39.36, 37.5, 36.25, 36.14, 36.05, 36.15, 36.2, 36.2, 36.0, 35.24, 35.59, 35.43, 35.58, 34.86, 34.35, 34.12, 34.59, 35.04, 35.51, 35.19, 35.24, 34.98, 35.38, 36.0, 34.98, 35.35, 35.21, 35.2, 35.51, 35.93, 35.94]\n",
      "[51.45, 51.43, 50.76, 50.92, 50.9, 51.2, 51.07, 51.61, 51.64, 52.15, 52.48, 51.82, 51.26, 51.28, 50.81, 50.39, 50.4, 49.5, 49.17, 48.28, 48.7, 49.03, 48.96, 48.87, 48.45, 48.39, 46.78, 46.54, 46.8, 46.55, 46.75, 47.84, 47.76, 47.16, 47.09, 46.42, 45.84, 45.76, 44.83, 45.18, 45.97, 45.61, 45.46, 44.91, 44.7, 44.75, 44.89, 44.76, 44.79, 45.61, 45.37, 45.3, 45.37, 45.17, 45.25, 45.57, 45.6, 45.69, 45.63, 45.22, 44.18, 43.3, 42.0, 41.78, 42.11, 41.96, 41.48, 41.39, 41.99, 42.13, 42.23, 42.25, 42.35, 42.22, 42.62, 42.56, 42.56, 42.67, 42.34, 42.55, 41.95, 42.07, 41.12, 41.49, 41.33, 41.86, 42.05, 42.63, 42.6, 42.4, 42.2, 42.01, 41.76, 41.98, 42.2, 42.01, 40.96, 41.14, 41.64, 44.15, 44.02, 44.36, 44.91, 44.9, 45.1, 44.94, 44.75, 45.15, 44.46, 44.63, 44.49, 45.04, 45.23, 44.94, 44.7, 45.29, 44.83, 44.67, 43.89, 44.08, 44.51, 44.25, 44.15, 44.44, 44.74, 45.06, 45.0, 45.11, 45.41, 46.39, 46.91, 46.79, 46.75, 46.53, 46.27, 46.25, 45.66, 45.21, 46.05, 46.03, 45.89, 46.55, 46.27, 47.01, 46.21, 46.72, 45.89, 45.22, 45.05, 45.24, 44.71, 44.29, 43.92, 43.55, 43.44, 43.74, 43.29, 44.01, 44.56, 44.31, 44.16, 43.25, 42.53, 41.82, 42.04, 42.38, 41.71, 41.78, 41.76, 41.655, 41.66, 41.51, 41.4, 41.66, 41.23, 41.01, 41.52, 41.94, 41.54, 41.985, 41.985, 41.99, 41.84, 41.53, 41.31, 40.84, 40.83, 40.79, 39.48, 39.54, 39.42, 39.42, 39.05, 38.79, 38.53, 38.6, 38.63, 37.53, 40.97, 41.26, 41.16, 41.09, 40.91, 41.2, 41.08, 41.16, 41.16, 40.95, 41.25, 40.81, 40.84, 40.76, 40.9, 40.38, 39.75, 38.91, 39.38, 39.27, 38.85, 38.81, 38.48, 38.25, 38.4, 38.0, 37.35, 36.57, 35.77, 35.84, 35.36, 35.6, 35.73, 35.7, 34.75, 34.56, 34.95, 34.81, 34.8, 34.03, 33.85, 33.62, 34.05, 34.42, 34.8, 34.79, 34.56, 34.6, 34.31, 34.84, 34.46, 34.43, 34.91, 34.73, 34.75, 35.34, 34.99]\n",
      "[51.76, 51.6, 51.82, 51.32, 51.4, 51.27, 51.66, 52.62, 52.01, 52.67, 53.09, 52.43, 52.14, 52.12, 51.47, 50.89, 51.25, 51.14, 49.86, 49.7, 48.75, 49.25, 49.2, 49.11, 49.2, 48.8, 48.39, 47.04, 46.84, 47.03, 47.05, 48.0, 48.34, 48.34, 47.21, 47.47, 46.26, 45.99, 45.97, 45.27, 46.04, 45.76, 46.41, 45.41, 45.0, 44.85, 45.0, 44.87, 45.0, 45.77, 45.96, 45.55, 45.4, 45.43, 45.29, 45.84, 45.74, 46.0, 46.05, 46.11, 44.98, 44.17, 43.56, 42.04, 42.37, 42.07, 42.06, 41.46, 41.99, 42.44, 42.27, 42.42, 42.52, 42.45, 42.73, 42.85, 42.67, 42.77, 42.55, 42.62, 42.6, 42.41, 41.9, 41.94, 41.85, 41.91, 42.14, 42.69, 42.71, 42.71, 42.26, 42.41, 42.5, 42.05, 42.28, 42.3, 41.94, 41.68, 41.81, 44.37, 44.96, 45.07, 44.97, 45.56, 45.45, 45.3, 44.97, 45.25, 45.16, 44.82, 44.61, 45.44, 45.66, 45.57, 45.0, 45.6, 45.53, 44.95, 44.95, 44.2, 44.7, 44.53, 44.62, 45.19, 44.8, 45.75, 45.44, 45.2, 45.68, 46.83, 47.21, 46.99, 47.29, 46.99, 47.37, 46.64, 46.63, 45.67, 46.33, 46.32, 46.31, 47.44, 46.27, 47.43, 47.43, 46.99, 46.52, 45.86, 46.02, 45.32, 45.3, 44.78, 44.53, 43.9, 43.84, 44.12, 43.98, 44.19, 45.31, 45.14, 44.99, 45.0, 43.28, 43.3, 42.24, 42.75, 42.5, 41.9, 42.15, 41.72, 41.72, 42.16, 41.5, 41.89, 41.81, 41.32, 41.93, 42.61, 42.0, 42.2, 42.2, 42.2, 42.2, 41.75, 41.68, 41.42, 41.05, 41.1, 40.81, 39.64, 39.98, 39.75, 40.01, 39.22, 38.85, 38.94, 38.96, 38.94, 40.98, 41.97, 41.34, 41.46, 41.25, 41.3, 41.3, 41.4, 41.4, 41.68, 41.42, 41.4, 41.18, 41.17, 41.2, 40.84, 40.39, 39.74, 39.79, 39.7, 39.45, 38.98, 39.02, 38.71, 38.72, 38.37, 38.53, 37.06, 36.25, 36.05, 35.89, 35.64, 36.1, 36.07, 35.94, 34.56, 35.15, 35.3, 34.89, 34.83, 34.22, 34.06, 34.17, 34.5, 34.9, 34.99, 35.07, 34.85, 34.9, 35.42, 34.91, 34.67, 35.04, 35.06, 35.19, 35.48, 35.8]\n",
      "[34640.0, 40660.0, 57452.0, 71165.0, 120649.0, 50587.0, 137313.0, 129733.0, 204080.0, 132981.0, 128434.0, 87911.0, 71817.0, 109157.0, 48123.0, 88730.0, 83023.0, 94385.0, 101733.0, 123019.0, 67342.0, 42669.0, 102180.0, 50350.0, 38834.0, 91142.0, 78502.0, 97252.0, 54107.0, 89373.0, 67593.0, 67672.0, 76286.0, 90245.0, 120268.0, 94195.0, 48152.0, 60716.0, 56911.0, 37958.0, 56319.0, 56245.0, 74472.0, 56319.0, 47730.0, 43042.0, 43375.0, 55707.0, 59991.0, 45263.0, 65837.0, 49246.0, 43362.0, 49180.0, 69455.0, 65860.0, 44059.0, 66760.0, 94804.0, 115706.0, 95313.0, 99821.0, 157234.0, 76600.0, 51321.0, 56224.0, 79955.0, 105194.0, 57838.0, 65546.0, 44037.0, 107144.0, 65157.0, 68801.0, 52828.0, 103273.0, 59881.0, 64320.0, 71006.0, 66351.0, 105288.0, 151474.0, 157888.0, 97804.0, 98156.0, 47130.0, 69734.0, 65213.0, 70269.0, 95376.0, 68812.0, 72886.0, 131361.0, 104676.0, 64334.0, 127682.0, 183412.0, 175161.0, 355857.0, 156168.0, 164543.0, 96202.0, 77854.0, 187468.0, 74975.0, 62672.0, 114006.0, 50557.0, 81970.0, 112224.0, 104282.0, 73422.0, 87399.0, 71971.0, 104003.0, 104995.0, 67375.0, 82745.0, 115705.0, 90538.0, 71868.0, 47999.0, 66116.0, 48706.0, 50549.0, 71381.0, 136112.0, 134965.0, 117165.0, 82492.0, 73322.0, 80586.0, 56071.0, 89752.0, 108334.0, 70056.0, 202214.0, 101733.0, 83741.0, 107644.0, 112942.0, 99674.0, 1945.0, 1081.0, 686.0, 290.0, 106513.0, 522.0, 587.0, 112.0, 74453.0, 49970.0, 111923.0, 38308.0, 70856.0, 45.0, 166160.0, 149515.0, 101476.0, 193702.0, 159495.0, 189125.0, 91858.0, 151439.0, 97456.0, 78512.0, 82058.0, 65266.0, 86559.0, 86348.0, 86348.0, 151683.0, 65847.0, 85973.0, 102084.0, 186784.0, 223621.0, 92722.0, 133057.0, 88416.0, 88416.0, 88416.0, 158278.0, 107817.0, 62297.0, 81255.0, 96794.0, 156005.0, 193156.0, 127973.0, 95382.0, 189201.0, 335406.0, 115075.0, 191515.0, 210926.0, 169971.0, 670349.0, 56906.0, 97572.0, 90109.0, 55799.0, 60324.0, 60420.0, 44803.0, 38518.0, 43988.0, 45111.0, 61925.0, 46510.0, 40800.0, 49863.0, 86753.0, 67440.0, 62655.0, 101294.0, 81945.0, 77619.0, 46070.0, 37014.0, 60583.0, 84682.0, 77420.0, 82601.0, 177171.0, 115843.0, 67781.0, 39731.0, 67410.0, 41911.0, 40705.0, 54279.0, 85137.0, 63371.0, 69603.0, 69657.0, 64103.0, 56240.0, 48797.0, 55333.0, 80246.0, 73105.0, 65931.0, 39195.0, 47879.0, 59367.0, 163860.0, 123530.0, 43976.0, 62225.0, 27507.0, 48412.0, 54408.0, 70618.0, 44700.0]\n"
     ]
    }
   ],
   "source": [
    "#Create lists of relevant data to analyze: Date, Open, High, Low, Close, Traded Volume\n",
    "Dates = []\n",
    "Open = []\n",
    "High = []\n",
    "Low = []\n",
    "Close = []\n",
    "Traded_Vol = []\n",
    "for i in r_dict1['data']:\n",
    "    Dates.append(i[0])\n",
    "    Open.append(i[1])\n",
    "    High.append(i[2])\n",
    "    Low.append(i[3])\n",
    "    Close.append(i[4])\n",
    "    Traded_Vol.append(i[6])\n",
    "print(Dates)\n",
    "print(Open) #note - 'none' values impeed calculations, replace with NA or NaN to analyze\n",
    "print(High)\n",
    "print(Low)\n",
    "print(Close)\n",
    "print(Traded_Vol)"
   ]
  },
  {
   "cell_type": "code",
   "execution_count": 51,
   "metadata": {},
   "outputs": [
    {
     "name": "stdout",
     "output_type": "stream",
     "text": [
      "34.0\n",
      "53.11\n"
     ]
    }
   ],
   "source": [
    "#Remove None values from Open list\n",
    "Open = list(filter(None, Open))\n",
    "#identify min and max Open values from the 2017\n",
    "print(min(Open))\n",
    "print(max(Open))"
   ]
  },
  {
   "cell_type": "code",
   "execution_count": 52,
   "metadata": {},
   "outputs": [
    {
     "name": "stdout",
     "output_type": "stream",
     "text": [
      "2.8100000000000023\n"
     ]
    }
   ],
   "source": [
    "#Create list to identify greatest value change in a day and identify the greatest change in a day\n",
    "Change = [i-j for i, j in zip(High, Low)]\n",
    "print(max(Change))"
   ]
  },
  {
   "cell_type": "code",
   "execution_count": 53,
   "metadata": {},
   "outputs": [
    {
     "name": "stdout",
     "output_type": "stream",
     "text": [
      "2.559999999999995\n"
     ]
    }
   ],
   "source": [
    "#iterate over Close list to calculate changes from one day to the next, return the greatest change in 2017\n",
    "close_change = [Close[i + 1] - Close[i] for i in range(len(Close)-1)]\n",
    "    \n",
    "print(max(close_change))"
   ]
  },
  {
   "cell_type": "code",
   "execution_count": 54,
   "metadata": {},
   "outputs": [
    {
     "name": "stdout",
     "output_type": "stream",
     "text": [
      "89124.33725490196\n"
     ]
    }
   ],
   "source": [
    "#Calculate average trading volume in 2017\n",
    "avg_trade_vol = sum(Traded_Vol)/len(Traded_Vol)\n",
    "print(avg_trade_vol)"
   ]
  },
  {
   "cell_type": "code",
   "execution_count": null,
   "metadata": {},
   "outputs": [],
   "source": []
  }
 ],
 "metadata": {
  "kernelspec": {
   "display_name": "Python 3",
   "language": "python",
   "name": "python3"
  },
  "language_info": {
   "codemirror_mode": {
    "name": "ipython",
    "version": 3
   },
   "file_extension": ".py",
   "mimetype": "text/x-python",
   "name": "python",
   "nbconvert_exporter": "python",
   "pygments_lexer": "ipython3",
   "version": "3.7.4"
  }
 },
 "nbformat": 4,
 "nbformat_minor": 2
}
